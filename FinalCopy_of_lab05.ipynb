{
  "cells": [
    {
      "cell_type": "markdown",
      "metadata": {
        "id": "view-in-github",
        "colab_type": "text"
      },
      "source": [
        "<a href=\"https://colab.research.google.com/github/manpreet1325/cap-comp215/blob/main/FinalCopy_of_lab05.ipynb\" target=\"_parent\"><img src=\"https://colab.research.google.com/assets/colab-badge.svg\" alt=\"Open In Colab\"/></a>"
      ]
    },
    {
      "cell_type": "markdown",
      "metadata": {
        "collapsed": true,
        "pycharm": {
          "name": "#%% md\n"
        },
        "id": "CgawE0ifppHl"
      },
      "source": [
        "COMP 215 - LAB 5 (Elementary Cellular Automata)\n",
        "-----------------------------------------------\n",
        "#### Name:\n",
        "#### Date:\n",
        "\n",
        "This lab exercise is an introduction to the elementary [Cellular Automata](https://en.wikipedia.org/wiki/Elementary_cellular_automaton) studied by [Stephen Wolfram](https://en.wikipedia.org/wiki/Stephen_Wolfram#Complex_systems_and_cellular_automata).\n",
        "\n",
        "**New Python concepts**:\n",
        "  * **[NumPy](https://numpy.org)** is an open-source scientific computing package.  We will be using numpy for the remainder of the term.\n",
        "  * 1D and 2D [array](https://numpy.org/doc/stable/reference/generated/numpy.array.html) -  an rectangular grid with efficient matrix operations.\n",
        "\n",
        "**New Computation concepts**:\n",
        "  * **bit sequence** (a.k.a. binary number) - using a sequence of 0's and 1's to efficiently represent a data structure and processes.\n",
        "\n",
        "**Credits**:\n",
        "    Code examples based on [Think Complexity, 2nd edition](https://thinkcomplex.com).\n",
        "    Copyright 2016 Allen Downey, [MIT License](http://opensource.org/licenses/MIT)\n",
        "\n",
        "As usual, the first code cell simply imports all the modules we'll be using..."
      ]
    },
    {
      "cell_type": "code",
      "execution_count": 2,
      "outputs": [],
      "source": [
        "import matplotlib.pyplot as plt\n",
        "import numpy as np\n",
        "%matplotlib inline"
      ],
      "metadata": {
        "pycharm": {
          "name": "#%%\n"
        },
        "id": "kez2BYnpppHo"
      }
    },
    {
      "cell_type": "markdown",
      "source": [
        "## CA Fundamentals\n",
        "Both the textbook and our week5 notebook develop some fundamental operations for simulating Elementary CA.\n",
        "Some of the code from `week5.ipynb` is reproduced here without deriving all the ideas - review `week5.ipynb` notebook for the full story.\n",
        "The sliding dot product algorithm in `rule_indexes` is implemented with [numpy.correlate](https://numpy.org/doc/stable/reference/generated/numpy.correlate.html).  It's behaviour is identical to the derivation in `week5.ipynb`.\n",
        "\n",
        "#### Notes\n",
        "* we use `np.pad(array, 1, mode='wrap')` to pad state vector with 1 value on either end from the opposite end of the vector.\n",
        "* since the rule is an `np.array`, we use \"vector indexing\" here to index a whole row at once:  next_row=rule[indexes]\n"
      ],
      "metadata": {
        "collapsed": false,
        "pycharm": {
          "name": "#%% md\n"
        },
        "id": "4HQIzhIippHp"
      }
    },
    {
      "cell_type": "code",
      "execution_count": 3,
      "outputs": [
        {
          "output_type": "display_data",
          "data": {
            "text/plain": [
              "<Figure size 800x400 with 1 Axes>"
            ],
            "image/png": "[encoded data removed]"
          },
          "metadata": {}
        }
      ],
      "source": [
        "POWERS_OF_2 = np.array((4, 2, 1))\n",
        "\n",
        "def rule_indexes(state):\n",
        "    \"\"\" Return vector of rule indexes - one index for each 3-cell neighbourhood in the CA state vector. \"\"\"\n",
        "    # numpy's version of the \"sliding dot product\" algorithm;  \"pad\" ends of state array with extra 0 cell to mitigate edge effects\n",
        "    return np.correlate(np.pad(state, 1, mode='constant'), POWERS_OF_2, mode='valid')\n",
        "\n",
        "assert all( rule_indexes(np.array([1,1,0,0,1,0,0,0])) == [3, 6, 4, 1, 2, 4, 0, 0] )\n",
        "\n",
        "\n",
        "def transition(state, rule):\n",
        "    \"\"\" Return a np.array for the state transition for given CA state under the given 8-bit rule \"\"\"\n",
        "    indexes = rule_indexes(state)\n",
        "    return np.array(rule[indexes])  # \"vector indexing\" replaces: [rule[i] for i in indexes]\n",
        "\n",
        "rule_110 = (0,1,1,0,1,1,1,0)[::-1]\n",
        "assert all( transition(np.array((0,0,1,1,1,0,0,0,1,1,0)), np.array(rule_110)) == (0,1,1,0,1,0,0,1,1,1,0))\n",
        "\n",
        "\n",
        "# This algorithm is from the textbook - it uses numpy to do a decimal to binary conversion.\n",
        "def get_lookup_table(rule):\n",
        "    \"\"\"\n",
        "    Return the 8-bit transition vector for the given elementary CA rule number.\n",
        "    rule: int 0-255\n",
        "    returns: transition lookup table - a 8 element vector of 0s and 1s\n",
        "    \"\"\"\n",
        "    rule = np.array([rule], dtype=np.uint8)\n",
        "    return np.unpackbits(rule)[::-1]\n",
        "\n",
        "assert np.all( get_lookup_table(110) == rule_110 )\n",
        "\n",
        "\n",
        "def single_centre_array(n_cells):\n",
        "    \"\"\" Return a binary 1D array with given number of cells, all zeros except a single 1 in the centre cell \"\"\"\n",
        "    array = np.zeros(n_cells, dtype=np.uint8)\n",
        "    array[n_cells//2] = 1\n",
        "    return array\n",
        "\n",
        "assert np.all( single_centre_array(7) == (0,0,0,1,0,0,0) )\n",
        "\n",
        "\n",
        "def simulate_ca(n_cells, n_steps, rule):\n",
        "    \"\"\" Generate a CA with given number of cells, plot progression of rule for given number of time steps \"\"\"\n",
        "    start_state = single_centre_array(n_cells)\n",
        "    # stack up one \"empty\" state vector for each time step\n",
        "    ca_timesteps = np.vstack([start_state, np.zeros((n_steps, len(start_state)), dtype=np.uint8)])\n",
        "    for t in range(1, n_steps):\n",
        "        ca_timesteps[t] = transition(ca_timesteps[t-1], rule)\n",
        "    return ca_timesteps\n",
        "\n",
        "\n",
        "def plot_ca(array, title=''):\n",
        "    \"\"\" Plot the 2D CA array as an image.  1's will be dark blue, 0's will be light blue. \"\"\"\n",
        "    plt.title(title)\n",
        "    plt.xticks([])  # turn off x-axis tick marks\n",
        "    plt.ylabel('Time Steps')  # label y-axis to remind us time runs from top to bottom\n",
        "    plt.imshow(array, cmap='Blues', interpolation='none')\n",
        "\n",
        "\n",
        "rule_90 = get_lookup_table(90)\n",
        "ca_timesteps = simulate_ca(200, 100, rule_90)\n",
        "plt.subplots(figsize=(8, 4))\n",
        "plot_ca(ca_timesteps)\n"
      ],
      "metadata": {
        "pycharm": {
          "name": "#%%\n"
        },
        "id": "PDxacy0PppHq",
        "outputId": "c00860e8-b4a5-4fce-cc23-9743c6cbaf62",
        "colab": {
          "base_uri": "https://localhost:8080/",
          "height": 355
        }
      }
    },
    {
      "cell_type": "markdown",
      "source": [
        "## Exercise 1: Additional Start States\n",
        "In Wolfram's original experiments, he starts with a CA that is all zeros except the centre cell.\n",
        "This is reproduced by the `single_centre_array` function above.\n",
        "It would be interesting to experiment with other start states...\n",
        "\n",
        "Write 2 functions, each of which returns a 1-D `numpy.array` (vector) configured in a specific state:\n",
        "1. `from_string_array` takes a text string of 0's and 1's and returns a 1D array with matching integer values\n",
        "2. `random_array` takes a float $ p where 0 <= p <= 1 $ as input and returns a 1D array $a$, where probability $a[i] == 1$ is $p$\n",
        "\n",
        "*Tip*: both problems are most easilty solved using list comprehensions!"
      ],
      "metadata": {
        "collapsed": false,
        "pycharm": {
          "name": "#%% md\n"
        },
        "id": "7x9YwkCMppHr"
      }
    },
    {
      "cell_type": "code",
      "execution_count": 4,
      "outputs": [
        {
          "output_type": "execute_result",
          "data": {
            "text/plain": [
              "'[1 1 0 0 0 1]'"
            ],
            "application/vnd.google.colaboratory.intrinsic+json": {
              "type": "string"
            }
          },
          "metadata": {},
          "execution_count": 4
        }
      ],
      "source": [
        "from numpy.core.arrayprint import array_str\n",
        "def from_string_array(array):\n",
        "    \"\"\" Return a binary 1D array with given number of cells, all zeros except a single 1 in the centre cell \"\"\"\n",
        "    string = np.array_str(array, max_line_width=np.inf, precision=0)\n",
        "    #string = np.array2str(array, max_line_width=np.inf, precision=0, seperator = \",\")\n",
        "\n",
        "\n",
        "    #print(string)\n",
        "    return string\n",
        "\n",
        "#from_string_array('0111001')\n",
        "\n",
        "bits= [0,1]\n",
        "def random_array(p,n):\n",
        "\n",
        "  return np.random.choice([0, 1], size=n, p=[1 - p, p])\n",
        "arr = np.array([1,1,0,0,0,1])\n",
        "#random_array(0.5,5)\n",
        "from_string_array(arr)"
      ],
      "metadata": {
        "pycharm": {
          "name": "#%%\n"
        },
        "id": "hzU86YJrppHr",
        "colab": {
          "base_uri": "https://localhost:8080/",
          "height": 36
        },
        "outputId": "f2410ad1-e261-400e-971b-9bd0a43ac410"
      }
    },
    {
      "cell_type": "markdown",
      "source": [
        "## Exercise 2: A Cell1D class\n",
        "Develop your own Cell1D class that uses the functions above to implement its fundamental operations.\n",
        "The `Cell1D` class from the textbook may provide some ideas, but you may find it more confusing than helpful.\n",
        "The goal here is to improve on the design of that class, so it might be better to just start over...\n",
        "\n",
        "* Initialize a Cell1D with a `rule` number and an array representing the CA `start_state`\n",
        "  *Tip*: initialize a 2-D array with just a single row to define the CA's data structure correctly.\n",
        "* Add a `simulate` method that takes the number of steps to simulate as input (note: my solution is just 4 lines of code)\n",
        "  *Tip*: use `vstack` to add enough rows onto the CA array prior to looping the simulation forward the given number of steps.\n",
        "  *Tip*: watch your indexing logic - each subsequent call must start where the last one left off.  There is an elegant solution to this.\n",
        "* Add a `step` method.  Unlike the textbook, our `step` method is just a convenience method - it just `simulate`s a single step.\n",
        "* Add a `draw` method.  You could either call on `plot_ca` to do the actual work or copy its code in - your choice.\n",
        "\n",
        "Note: this is *not* a dataclass - you will need to initialzice objects with an `__init__` method."
      ],
      "metadata": {
        "collapsed": false,
        "pycharm": {
          "name": "#%% md\n"
        },
        "id": "6Qo1S6s9ppHr"
      }
    },
    {
      "cell_type": "code",
      "source": [
        "import numpy as np\n",
        "import matplotlib.pyplot as plt\n",
        "\n",
        "class Elementary_CA:\n",
        "    POWERS_OF_2 = np.array((4, 2, 1))\n",
        "\n",
        "    def __init__(self, rule):\n",
        "        self.rule = self.get_lookup_table(rule)\n",
        "\n",
        "    def rule_indexes(self, state):\n",
        "        return np.correlate(np.pad(state, 1, mode='constant'), self.POWERS_OF_2, mode='valid')\n",
        "\n",
        "    def transition(self, state):\n",
        "        indexes = self.rule_indexes(state)\n",
        "        return np.array(self.rule[indexes])\n",
        "\n",
        "    @staticmethod\n",
        "    def get_lookup_table(rule):\n",
        "        rule = np.array([rule], dtype=np.uint8)\n",
        "        return np.unpackbits(rule)[::-1]\n",
        "\n",
        "    @staticmethod\n",
        "    def single_centre_array(n_cells):\n",
        "        array = np.zeros(n_cells, dtype=np.uint8)\n",
        "        array[n_cells // 2] = 1\n",
        "        return array\n",
        "\n",
        "    def simulate_ca(self, n_cells, n_steps):\n",
        "        start_state = self.single_centre_array(n_cells)\n",
        "        ca_timesteps = np.vstack([start_state, np.zeros((n_steps, len(start_state)), dtype=np.uint8)])\n",
        "        for t in range(1, n_steps):\n",
        "            ca_timesteps[t] = self.transition(ca_timesteps[t - 1])\n",
        "        return ca_timesteps\n",
        "\n",
        "    @staticmethod\n",
        "    def plot_ca(array, title=''):\n",
        "        plt.title(title)\n",
        "        plt.xticks([])\n",
        "        plt.ylabel('Time Steps')\n",
        "        plt.imshow(array, cmap='Blues', interpolation='none')\n",
        "\n",
        "\n",
        "rule_90 = 90\n",
        "CA = Elementary_CA(rule_90)\n",
        "ca_timesteps = CA.simulate_ca(250, 130)\n",
        "\n",
        "plt.subplots(figsize=(8, 4))\n",
        "CA.plot_ca(ca_timesteps)\n",
        "plt.show()\n"
      ],
      "metadata": {
        "colab": {
          "base_uri": "https://localhost:8080/",
          "height": 349
        },
        "id": "E8WEmS7Vd22-",
        "outputId": "d77bd318-a5c8-49bd-f82c-dd1479d2d11e"
      },
      "execution_count": 6,
      "outputs": [
        {
          "output_type": "display_data",
          "data": {
            "text/plain": [
              "<Figure size 800x400 with 1 Axes>"
            ],
            "image/png": "[encoded data removed]"
          },
          "metadata": {}
        }
      ]
    },
    {
      "cell_type": "markdown",
      "source": [
        "## Exercise 3: Run some Experiments\n",
        "With your new Cell1D class, run some experiments to explore the Elementary CA's.\n",
        "\n",
        "Wolfram identifies 4 \"classes\" of Elementary Cellular Automata:\n",
        "    a) rapidly converge to a uniform static state.\n",
        "    b) rapidly converge to a stable repeating pattern.\n",
        "    c) generate non-repeating, random states.\n",
        "    d) generate chaos, with areas of repetitive or stable states, but also structures that interact in complex ways.\n",
        "\n",
        "### Exercises\n",
        "\n",
        "1. It will be convenient to abstract the steps needed to construct, simulate, and draw a CA - develop a small `experiment` function to do so.\n",
        "\n",
        "2. Identify a rule that exemplifies each of the 4 CA classes.\n",
        "   Create a 2x2 grid of plots that shows an example simulation for each class of CA side-by-side."
      ],
      "metadata": {
        "collapsed": false,
        "pycharm": {
          "name": "#%% md\n"
        },
        "id": "o_KRHtgAppHs"
      }
    },
    {
      "cell_type": "code",
      "execution_count": 7,
      "outputs": [
        {
          "output_type": "stream",
          "name": "stderr",
          "text": [
            "<ipython-input-7-e957facde3d8>:9: MatplotlibDeprecationWarning: Auto-removal of overlapping axes is deprecated since 3.6 and will be removed two minor releases later; explicitly call ax.remove() as needed.\n",
            "  plt.subplot(2, 2, k)         # draw next plot in \"cell i\" of a 2 x 2 grid\n"
          ]
        },
        {
          "output_type": "display_data",
          "data": {
            "text/plain": [
              "<Figure size 1600x800 with 4 Axes>"
            ],
            "image/png": "[encoded data removed]"
          },
          "metadata": {}
        }
      ],
      "source": [
        "plt.subplots(figsize=(16, 8))   # total figure size for subplots is 16 x 8 inches\n",
        "# Example: plot 4 plots in a 2x2 grid - plots are number 1..4\n",
        "rules= [122, 5, 225, 90]\n",
        "k=1\n",
        "for i in rules:\n",
        "  CA = Elementary_CA(i)\n",
        "  ca_timesteps = CA.simulate_ca(200, 100)\n",
        "\n",
        "  plt.subplot(2, 2, k)         # draw next plot in \"cell i\" of a 2 x 2 grid\n",
        "  plot_ca(ca_timesteps, title=f'This is plot #{i}')\n",
        "  k=k+1"
      ],
      "metadata": {
        "pycharm": {
          "name": "#%%\n"
        },
        "id": "pMCD8CeeppHs",
        "colab": {
          "base_uri": "https://localhost:8080/",
          "height": 718
        },
        "outputId": "f4aa8972-f558-4144-fe35-781e95874bc0"
      }
    },
    {
      "cell_type": "markdown",
      "source": [
        "#### Example code for creating grid of plots:"
      ],
      "metadata": {
        "collapsed": false,
        "pycharm": {
          "name": "#%% md\n"
        },
        "id": "JkTbkLJzppHs"
      }
    },
    {
      "cell_type": "markdown",
      "source": [
        "## Exercise 4:  Thought Experiments\n",
        "Think about some of the questions that arise from this experiment.  Provide some concise answer that  capture you thinking...\n",
        "1. What is it about these experiments that required computation?\n",
        "Is there some other means by which we could conduct experiments like this?\n",
        "\n",
        "2. What conclusions can you draw about the conditions under which complex behaviours can arise?\n",
        "Do you think these conclusions are mostly intuitive or counter-intuitive?\n",
        "\n",
        "3. What lessons might we take about studying complex phenomena in the real world from our study of elementary cellular automata?"
      ],
      "metadata": {
        "collapsed": false,
        "pycharm": {
          "name": "#%% md\n"
        },
        "id": "H3QkVOGxppHt"
      }
    },
    {
      "cell_type": "markdown",
      "source": [
        "### Answers\n",
        "The complex behavious are just repetitions of simple rules over and over again. This shows that is we are doing something over and over again under a cover, someone who is just looking at the results will call it complex.\n",
        "And this teaches us that does not matter how complex something looks, at elementary level, it is the simplest thing we can ever imagine."
      ],
      "metadata": {
        "collapsed": false,
        "pycharm": {
          "name": "#%% md\n"
        },
        "id": "snjo-AldppHt"
      }
    }
  ],
  "metadata": {
    "kernelspec": {
      "display_name": "Python 3",
      "language": "python",
      "name": "python3"
    },
    "language_info": {
      "codemirror_mode": {
        "name": "ipython",
        "version": 2
      },
      "file_extension": ".py",
      "mimetype": "text/x-python",
      "name": "python",
      "nbconvert_exporter": "python",
      "pygments_lexer": "ipython2",
      "version": "2.7.6"
    },
    "colab": {
      "provenance": [],
      "include_colab_link": true
    }
  },
  "nbformat": 4,
  "nbformat_minor": 0
}