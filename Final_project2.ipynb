{
  "nbformat": 4,
  "nbformat_minor": 0,
  "metadata": {
    "colab": {
      "provenance": [],
      "authorship_tag": "ABX9TyP8mq4WkkakB4LaCW1DepF3",
      "include_colab_link": true
    },
    "kernelspec": {
      "name": "python3",
      "display_name": "Python 3"
    },
    "language_info": {
      "name": "python"
    }
  },
  "cells": [
    {
      "cell_type": "markdown",
      "metadata": {
        "id": "view-in-github",
        "colab_type": "text"
      },
      "source": [
        "<a href=\"https://colab.research.google.com/github/manpreet1325/cap-comp215/blob/main/Final_project2.ipynb\" target=\"_parent\"><img src=\"https://colab.research.google.com/assets/colab-badge.svg\" alt=\"Open In Colab\"/></a>"
      ]
    },
    {
      "cell_type": "markdown",
      "source": [
        "##Langton's ant\n",
        "\n",
        "Manpreet Kaur\n",
        "\n",
        "The complexity of the code depends on the steps of simulation and number of cells in the grid. Therefore for large number of steps, the size of grid needs to be kept small for fast processing of the code.\n"
      ],
      "metadata": {
        "id": "fGClpSyzE9L9"
      }
    },
    {
      "cell_type": "code",
      "source": [
        "import numpy as np\n",
        "import matplotlib.pyplot as plt\n",
        "from matplotlib.animation import FuncAnimation\n",
        "\n",
        "\n",
        "plt.rcParams['animation.html'] = 'jshtml'\n",
        "\n",
        "class LangtonsAnt:\n",
        "    def __init__(self, width, height, start_x, start_y):\n",
        "      #initializes the grid, ant's position, and direction.\n",
        "        self.width = width\n",
        "        self.height = height\n",
        "        self.grid = np.zeros((width, height), dtype=int)\n",
        "        self.ant_x = start_x\n",
        "        self.ant_y = start_y\n",
        "        self.direction = 0\n",
        "        # 0: Up, 1: Right, 2: Down, 3: Left\n",
        "\n",
        "        self.clockwise_kernel = np.array([[0, 1], [-1, 0]])\n",
        "        self.counter_clockwise_kernel = np.array([[0, -1], [1, 0]])\n",
        "\n",
        "    def move_forward(self):\n",
        "      #updates the ant's position based on its current direction\n",
        "        if self.direction == 0:\n",
        "            self.ant_y = (self.ant_y - 1) % self.height\n",
        "        elif self.direction == 1:\n",
        "            self.ant_x = (self.ant_x + 1) % self.width\n",
        "        elif self.direction == 2:\n",
        "            self.ant_y = (self.ant_y + 1) % self.height\n",
        "        else:\n",
        "            self.ant_x = (self.ant_x - 1) % self.width\n",
        "\n",
        "    def step(self):\n",
        "      #defines the ant's behavior: if it's on a white cell (0), it turns right and flips the cell's color; if it's on a black cell (1), it turns left and flips the cell's color\n",
        "        if self.grid[self.ant_x, self.ant_y] == 0:\n",
        "            self.direction = (self.direction + 1) % 4\n",
        "            self.grid[self.ant_x, self.ant_y] = 1\n",
        "        else:\n",
        "            self.direction = (self.direction - 1) % 4\n",
        "            self.grid[self.ant_x, self.ant_y] = 0\n",
        "        self.move_forward()\n",
        "\n",
        "\n",
        "width = 20\n",
        "height = 20\n",
        "start_x = width // 2\n",
        "start_y = height // 2\n",
        "steps = 50\n",
        "\n",
        "\n",
        "ant = LangtonsAnt(width, height, start_x, start_y)\n",
        "\n",
        "fig, ax = plt.subplots()\n",
        "\n",
        "\n",
        "grid_img = ax.imshow(ant.grid, cmap='binary')\n",
        "ant_symbol, = ax.plot(ant.ant_y, ant.ant_x, marker='^', color='red', markersize=8)\n",
        "\n",
        "\n",
        "\n",
        "def update(frame):\n",
        "    #updates the ant's position, grid visualization, and the title of the plot  with every step\n",
        "    ant.step()\n",
        "    ax.imshow(ant.grid, cmap='binary')\n",
        "    ax.set_title(f\"Step: {frame}\")\n",
        "    ax.set_frame_on(True)\n",
        "    ax.set_xticks(np.arange(0, 20, 2))\n",
        "    ax.set_yticks(np.arange(0, 20, 2))\n",
        "\n",
        "\n",
        "    for i in range(1, width):\n",
        "        plt.axvline(x=i - 0.5, color='gray', linewidth=0.5)\n",
        "\n",
        "    for j in range(1, height):\n",
        "        plt.axhline(y=j - 0.5, color='gray', linewidth=0.5)\n",
        "\n",
        "    grid_img.set_data(ant.grid)\n",
        "\n",
        "\n",
        "    ant_symbol.set_data(ant.ant_y, ant.ant_x)\n",
        "    ax.set_title(f\"Step: {frame}\")\n",
        "    return grid_img, ant_symbol\n",
        "\n",
        "\n",
        "FuncAnimation(fig, update, frames=steps, interval=150)\n",
        "\n"
      ],
      "metadata": {
        "colab": {
          "base_uri": "https://localhost:8080/",
          "height": 254
        },
        "id": "DnIUM0MP6X_G",
        "outputId": "23576e8a-158a-4dd7-8a8d-0bd7924c84d3"
      },
      "execution_count": 11,
      "outputs": [
        {
          "output_type": "error",
          "ename": "AttributeError",
          "evalue": "ignored",
          "traceback": [
            "\u001b[0;31m---------------------------------------------------------------------------\u001b[0m",
            "\u001b[0;31mAttributeError\u001b[0m                            Traceback (most recent call last)",
            "\u001b[0;32m<ipython-input-11-3def75cb53a8>\u001b[0m in \u001b[0;36m<cell line: 6>\u001b[0;34m()\u001b[0m\n\u001b[1;32m      4\u001b[0m \u001b[0;34m\u001b[0m\u001b[0m\n\u001b[1;32m      5\u001b[0m \u001b[0;34m\u001b[0m\u001b[0m\n\u001b[0;32m----> 6\u001b[0;31m \u001b[0mplt\u001b[0m\u001b[0;34m.\u001b[0m\u001b[0mjson\u001b[0m\u001b[0;34m[\u001b[0m\u001b[0;34m'animation.html'\u001b[0m\u001b[0;34m]\u001b[0m \u001b[0;34m=\u001b[0m \u001b[0;34m'jshtml'\u001b[0m\u001b[0;34m\u001b[0m\u001b[0;34m\u001b[0m\u001b[0m\n\u001b[0m\u001b[1;32m      7\u001b[0m \u001b[0;34m\u001b[0m\u001b[0m\n\u001b[1;32m      8\u001b[0m \u001b[0;32mclass\u001b[0m \u001b[0mLangtonsAnt\u001b[0m\u001b[0;34m:\u001b[0m\u001b[0;34m\u001b[0m\u001b[0;34m\u001b[0m\u001b[0m\n",
            "\u001b[0;31mAttributeError\u001b[0m: module 'matplotlib.pyplot' has no attribute 'json'"
          ]
        }
      ]
    },
    {
      "cell_type": "code",
      "source": [
        "import timeit\n",
        "def run_simulation():\n",
        "    for i in range(steps):\n",
        "        ant.step()\n",
        "\n",
        "execution_time = timeit.timeit(run_simulation, number=1)\n",
        "\n",
        "print(f\" {steps} steps take {execution_time:.6f} seconds\")"
      ],
      "metadata": {
        "colab": {
          "base_uri": "https://localhost:8080/"
        },
        "id": "xFk4i9IjHGFh",
        "outputId": "27b2e106-dd0a-4ff2-9da0-66b86c77100e"
      },
      "execution_count": 10,
      "outputs": [
        {
          "output_type": "stream",
          "name": "stdout",
          "text": [
            " 50 steps take 0.000126 seconds\n"
          ]
        }
      ]
    },
    {
      "cell_type": "markdown",
      "source": [
        "We can change some parts of code to speed it up, but the Big-O will not change by that significantly. When measuring the time taken, a small change can be seen due to the coefficients or non- significant terms.\n",
        "\n",
        "For example, One of the things big-O depends on is the size of the grid. This can not be changed but the time taken can be decreases by decreasing time used by each cell in the grid.\n",
        "\n",
        "Similarly, decreasing the time dissipated on each step can decrease the overall time taken but it is also not going to change Big-O."
      ],
      "metadata": {
        "id": "hfyZJk1SaSTs"
      }
    }
  ]
}