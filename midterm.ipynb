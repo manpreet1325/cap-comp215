{
  "cells": [
    {
      "cell_type": "markdown",
      "metadata": {
        "id": "view-in-github",
        "colab_type": "text"
      },
      "source": [
        "<a href=\"https://colab.research.google.com/github/manpreet1325/cap-comp215/blob/main/midterm.ipynb\" target=\"_parent\"><img src=\"https://colab.research.google.com/assets/colab-badge.svg\" alt=\"Open In Colab\"/></a>"
      ]
    },
    {
      "cell_type": "markdown",
      "source": [
        "# COMP215 Mid-term Exam   Spring 2023\n",
        "\n",
        "#### Score:  _________ / 25\n",
        "\n",
        "##### Date:  Mar. 8, 2023"
      ],
      "metadata": {
        "collapsed": false,
        "id": "aTvOJVS51dl1"
      }
    },
    {
      "cell_type": "markdown",
      "source": [
        "#### Student Name: Manpreet Kaur"
      ],
      "metadata": {
        "collapsed": false,
        "pycharm": {
          "name": "#%% md\n"
        },
        "id": "m9BQ_AJN1dl3"
      }
    },
    {
      "cell_type": "markdown",
      "source": [
        "\n",
        "## Instructions:\n",
        " - exam is open-book, open-internet, but must be completed individually (no communication, cooperations, or assistance)\n",
        " - complete the exercises in this notebook\n",
        " - for each exercise, write a piece of code that solves the problem and produces some output, or answer questions in the markdown block, as specified.\n",
        "\n",
        "### Topics:\n",
        " - Data structures:  list, dictionary, class, graph, 1D array\n",
        " - Algorithms: graph traversal, matrix operators (numpy), sliding dot-product (correlation)\n",
        " - Techniques: list comprehension, generators, random numbers, plotting\n",
        " - Concepts: Big-O analysis of algorithm time complexity\n",
        "\n",
        "As usual, we start with module imports..."
      ],
      "metadata": {
        "collapsed": false,
        "id": "u6DPzkwi1dl3"
      }
    },
    {
      "cell_type": "code",
      "execution_count": 188,
      "metadata": {
        "collapsed": true,
        "id": "66skWOQX1dl4"
      },
      "outputs": [],
      "source": [
        "from dataclasses import dataclass\n",
        "import matplotlib.pyplot as plt\n",
        "import numpy as np"
      ]
    },
    {
      "cell_type": "markdown",
      "source": [
        "## Structured Data\n",
        "The `exoplanets` data below was fetched from [NASA's Exoplanet Archive API](https://exoplanetarchive.ipac.caltech.edu/docs/API_queries.html) (only portion of data is shown here).\n",
        "[https://exoplanetarchive.ipac.caltech.edu/TAP/sync?query=select+pl_name,hostname,disc_year,disc_telescope+from+pscomppars&format=json]\n",
        "\n",
        "It is a list of confirmed exoplanets, where each record provides the planet name `pl_name` and host star `hostname`, along with discovery year and telescope."
      ],
      "metadata": {
        "collapsed": false,
        "id": "A7JZkEjd1dl4"
      }
    },
    {
      "cell_type": "code",
      "execution_count": 189,
      "outputs": [],
      "source": [
        "exoplanets = [\n",
        " {'disc_telescope': '0.95 m Kepler Telescope',\n",
        "  'disc_year': 2021,\n",
        "  'hostname': 'Kepler-1901',\n",
        "  'pl_name': 'Kepler-1901 b'},\n",
        " {'disc_telescope': '0.95 m Kepler Telescope',\n",
        "  'disc_year': 2021,\n",
        "  'hostname': 'Kepler-1882',\n",
        "  'pl_name': 'Kepler-1882 b'},\n",
        " {'disc_telescope': '0.95 m Kepler Telescope',\n",
        "  'disc_year': 2021,\n",
        "  'hostname': 'Kepler-1732',\n",
        "  'pl_name': 'Kepler-1732 b'},\n",
        " {'disc_telescope': '0.95 m Kepler Telescope',\n",
        "  'disc_year': 2014,\n",
        "  'hostname': 'Kepler-152',\n",
        "  'pl_name': 'Kepler-152 b'},\n",
        " {'disc_telescope': '0.95 m Kepler Telescope',\n",
        "  'disc_year': 2016,\n",
        "  'hostname': 'Kepler-1526',\n",
        "  'pl_name': 'Kepler-1526 b'},\n",
        " {'disc_telescope': '0.95 m Kepler Telescope',\n",
        "  'disc_year': 2016,\n",
        "  'hostname': 'Kepler-1475',\n",
        "  'pl_name': 'Kepler-1475 b'},\n",
        " {'disc_telescope': '0.95 m Kepler Telescope',\n",
        "  'disc_year': 2021,\n",
        "  'hostname': 'Kepler-1863',\n",
        "  'pl_name': 'Kepler-1863 b'},\n",
        " {'disc_telescope': '0.95 m Kepler Telescope',\n",
        "  'disc_year': 2016,\n",
        "  'hostname': 'Kepler-954',\n",
        "  'pl_name': 'Kepler-954 b'},\n",
        " {'disc_telescope': '0.95 m Kepler Telescope',\n",
        "  'disc_year': 2016,\n",
        "  'hostname': 'Kepler-533',\n",
        "  'pl_name': 'Kepler-533 b'},\n",
        " {'disc_telescope': '0.95 m Kepler Telescope',\n",
        "  'disc_year': 2016,\n",
        "  'hostname': 'Kepler-1559',\n",
        "  'pl_name': 'Kepler-1559 b'},\n",
        " {'disc_telescope': '0.95 m Kepler Telescope',\n",
        "  'disc_year': 2019,\n",
        "  'hostname': 'V1298 Tau',\n",
        "  'pl_name': 'V1298 Tau d'},\n",
        " {'disc_telescope': '0.95 m Kepler Telescope',\n",
        "  'disc_year': 2016,\n",
        "  'hostname': 'K2-34',\n",
        "  'pl_name': 'K2-34 b'},\n",
        " {'disc_telescope': '0.95 m Kepler Telescope',\n",
        "  'disc_year': 2014,\n",
        "  'hostname': 'Kepler-122',\n",
        "  'pl_name': 'Kepler-122 f'},\n",
        " {'disc_telescope': '0.95 m Kepler Telescope',\n",
        "  'disc_year': 2014,\n",
        "  'hostname': 'Kepler-413',\n",
        "  'pl_name': 'Kepler-413 b'},\n",
        " {'disc_telescope': '0.95 m Kepler Telescope',\n",
        "  'disc_year': 2018,\n",
        "  'hostname': 'K2-154',\n",
        "  'pl_name': 'K2-154 c'},\n",
        " {'disc_telescope': '0.95 m Kepler Telescope',\n",
        "  'disc_year': 2016,\n",
        "  'hostname': 'Kepler-885',\n",
        "  'pl_name': 'Kepler-885 b'},\n",
        " {'disc_telescope': '0.95 m Kepler Telescope',\n",
        "  'disc_year': 2014,\n",
        "  'hostname': 'Kepler-120',\n",
        "  'pl_name': 'Kepler-120 b'},\n",
        " {'disc_telescope': '0.95 m Kepler Telescope',\n",
        "  'disc_year': 2021,\n",
        "  'hostname': 'Kepler-1878',\n",
        "  'pl_name': 'Kepler-1878 b'},\n",
        " {'disc_telescope': '0.95 m Kepler Telescope',\n",
        "  'disc_year': 2021,\n",
        "  'hostname': 'Kepler-324',\n",
        "  'pl_name': 'Kepler-324 e'},\n",
        " {'disc_telescope': '0.95 m Kepler Telescope',\n",
        "  'disc_year': 2016,\n",
        "  'hostname': 'KIC 5437945',\n",
        "  'pl_name': 'Kepler-460 c'},\n",
        " {'disc_telescope': '0.95 m Kepler Telescope',\n",
        "  'disc_year': 2016,\n",
        "  'hostname': 'Kepler-473',\n",
        "  'pl_name': 'Kepler-473 b'},\n",
        " {'disc_telescope': '0.95 m Kepler Telescope',\n",
        "  'disc_year': 2012,\n",
        "  'hostname': 'Kepler-85',\n",
        "  'pl_name': 'Kepler-85 c'},\n",
        " {'disc_telescope': '0.95 m Kepler Telescope',\n",
        "  'disc_year': 2012,\n",
        "  'hostname': 'Kepler-32',\n",
        "  'pl_name': 'Kepler-32 e'},\n",
        " {'disc_telescope': '3.6 m ESO Telescope',\n",
        "  'disc_year': 2012,\n",
        "  'hostname': 'GJ 3470',\n",
        "  'pl_name': 'GJ 3470 b'},\n",
        " {'disc_telescope': '0.95 m Kepler Telescope',\n",
        "  'disc_year': 2013,\n",
        "  'hostname': 'Kepler-66',\n",
        "  'pl_name': 'Kepler-66 b'},\n",
        " {'disc_telescope': '0.95 m Kepler Telescope',\n",
        "  'disc_year': 2016,\n",
        "  'hostname': 'Kepler-971',\n",
        "  'pl_name': 'Kepler-971 b'},\n",
        " {'disc_telescope': '0.95 m Kepler Telescope',\n",
        "  'disc_year': 2016,\n",
        "  'hostname': 'Kepler-1432',\n",
        "  'pl_name': 'Kepler-1432 b'},\n",
        " {'disc_telescope': '0.95 m Kepler Telescope',\n",
        "  'disc_year': 2016,\n",
        "  'hostname': 'Kepler-953',\n",
        "  'pl_name': 'Kepler-953 b'},\n",
        " {'disc_telescope': '3.6 m ESO Telescope',\n",
        "  'disc_year': 2008,\n",
        "  'hostname': 'HD 20868',\n",
        "  'pl_name': 'HD 20868 b'},\n",
        " {'disc_telescope': '0.95 m Kepler Telescope',\n",
        "  'disc_year': 2016,\n",
        "  'hostname': 'Kepler-1365',\n",
        "  'pl_name': 'Kepler-1365 c'},\n",
        " {'disc_telescope': '0.95 m Kepler Telescope',\n",
        "  'disc_year': 2016,\n",
        "  'hostname': 'Kepler-903',\n",
        "  'pl_name': 'Kepler-903 c'},\n",
        " {'disc_telescope': '0.95 m Kepler Telescope',\n",
        "  'disc_year': 2016,\n",
        "  'hostname': 'K2-347',\n",
        "  'pl_name': 'K2-347 b'},\n",
        " {'disc_telescope': '0.95 m Kepler Telescope',\n",
        "  'disc_year': 2015,\n",
        "  'hostname': 'Kepler-439',\n",
        "  'pl_name': 'Kepler-439 b'},\n",
        " {'disc_telescope': '0.95 m Kepler Telescope',\n",
        "  'disc_year': 2016,\n",
        "  'hostname': 'Kepler-810',\n",
        "  'pl_name': 'Kepler-810 b'},\n",
        " {'disc_telescope': '0.95 m Kepler Telescope',\n",
        "  'disc_year': 2018,\n",
        "  'hostname': 'K2-334',\n",
        "  'pl_name': 'K2-334 b'},\n",
        " {'disc_telescope': '0.1 m TESS Telescope',\n",
        "  'disc_year': 2022,\n",
        "  'hostname': 'TOI-2184',\n",
        "  'pl_name': 'TOI-2184 b'},\n",
        " {'disc_telescope': '0.95 m Kepler Telescope',\n",
        "  'disc_year': 2016,\n",
        "  'hostname': 'Kepler-600',\n",
        "  'pl_name': 'Kepler-600 b'},\n",
        " {'disc_telescope': '0.95 m Kepler Telescope',\n",
        "  'disc_year': 2016,\n",
        "  'hostname': 'Kepler-1161',\n",
        "  'pl_name': 'Kepler-1161 b'},\n",
        " {'disc_telescope': '0.95 m Kepler Telescope',\n",
        "  'disc_year': 2016,\n",
        "  'hostname': 'Kepler-543',\n",
        "  'pl_name': 'Kepler-543 b'},\n",
        " {'disc_telescope': '0.95 m Kepler Telescope',\n",
        "  'disc_year': 2016,\n",
        "  'hostname': 'Kepler-1494',\n",
        "  'pl_name': 'Kepler-1494 b'},\n",
        " {'disc_telescope': '0.95 m Kepler Telescope',\n",
        "  'disc_year': 2016,\n",
        "  'hostname': 'Kepler-1221',\n",
        "  'pl_name': 'Kepler-1221 b'},\n",
        " {'disc_telescope': '0.95 m Kepler Telescope',\n",
        "  'disc_year': 2016,\n",
        "  'hostname': 'Kepler-856',\n",
        "  'pl_name': 'Kepler-856 b'},\n",
        " {'disc_telescope': '0.95 m Kepler Telescope',\n",
        "  'disc_year': 2016,\n",
        "  'hostname': 'Kepler-1340',\n",
        "  'pl_name': 'Kepler-1340 b'},\n",
        " {'disc_telescope': '0.95 m Kepler Telescope',\n",
        "  'disc_year': 2018,\n",
        "  'hostname': 'K2-266',\n",
        "  'pl_name': 'K2-266 e'},\n",
        " {'disc_telescope': '0.95 m Kepler Telescope',\n",
        "  'disc_year': 2016,\n",
        "  'hostname': 'Kepler-1473',\n",
        "  'pl_name': 'Kepler-1473 b'},\n",
        " {'disc_telescope': '3.6 m ESO Telescope',\n",
        "  'disc_year': 2009,\n",
        "  'hostname': 'HD 125595',\n",
        "  'pl_name': 'HD 125595 b'},\n",
        " {'disc_telescope': '0.95 m Kepler Telescope',\n",
        "  'disc_year': 2014,\n",
        "  'hostname': 'Kepler-173',\n",
        "  'pl_name': 'Kepler-173 b'},\n",
        " {'disc_telescope': '0.1 m TESS Telescope',\n",
        "  'disc_year': 2022,\n",
        "  'hostname': 'TOI-1759',\n",
        "  'pl_name': 'TOI-1759 b'},\n",
        " {'disc_telescope': '0.95 m Kepler Telescope',\n",
        "  'disc_year': 2021,\n",
        "  'hostname': 'Kepler-1853',\n",
        "  'pl_name': 'Kepler-1853 b'},\n",
        " {'disc_telescope': '0.95 m Kepler Telescope',\n",
        "  'disc_year': 2016,\n",
        "  'hostname': 'Kepler-1083',\n",
        "  'pl_name': 'Kepler-1083 b'},\n",
        " {'disc_telescope': '0.95 m Kepler Telescope',\n",
        "  'disc_year': 2022,\n",
        "  'hostname': 'K2-384',\n",
        "  'pl_name': 'K2-384 b'},\n",
        " {'disc_telescope': '0.95 m Kepler Telescope',\n",
        "  'disc_year': 2016,\n",
        "  'hostname': 'K2-46',\n",
        "  'pl_name': 'K2-46 b'},\n",
        " {'disc_telescope': '0.1 m TESS Telescope',\n",
        "  'disc_year': 2019,\n",
        "  'hostname': 'TOI-125',\n",
        "  'pl_name': 'TOI-125 b'},\n",
        " {'disc_telescope': '0.95 m Kepler Telescope',\n",
        "  'disc_year': 2014,\n",
        "  'hostname': 'Kepler-262',\n",
        "  'pl_name': 'Kepler-262 b'},\n",
        " {'disc_telescope': '0.95 m Kepler Telescope',\n",
        "  'disc_year': 2016,\n",
        "  'hostname': 'Kepler-1493',\n",
        "  'pl_name': 'Kepler-1493 b'},\n",
        " {'disc_telescope': '0.95 m Kepler Telescope',\n",
        "  'disc_year': 2022,\n",
        "  'hostname': 'K2-383',\n",
        "  'pl_name': 'K2-383 b'},\n",
        " {'disc_telescope': '0.95 m Kepler Telescope',\n",
        "  'disc_year': 2016,\n",
        "  'hostname': 'Kepler-1156',\n",
        "  'pl_name': 'Kepler-1156 b'},\n",
        " {'disc_telescope': '0.95 m Kepler Telescope',\n",
        "  'disc_year': 2016,\n",
        "  'hostname': 'Kepler-1593',\n",
        "  'pl_name': 'Kepler-1593 b'},\n",
        " {'disc_telescope': '0.95 m Kepler Telescope',\n",
        "  'disc_year': 2016,\n",
        "  'hostname': 'Kepler-769',\n",
        "  'pl_name': 'Kepler-769 c'},\n",
        " {'disc_telescope': '0.95 m Kepler Telescope',\n",
        "  'disc_year': 2018,\n",
        "  'hostname': 'K2-180',\n",
        "  'pl_name': 'K2-180 b'},\n",
        " {'disc_telescope': '0.95 m Kepler Telescope',\n",
        "  'disc_year': 2016,\n",
        "  'hostname': 'Kepler-1001',\n",
        "  'pl_name': 'Kepler-1001 b'},\n",
        " {'disc_telescope': '1.6 m wide-field telescope',\n",
        "  'disc_year': 2019,\n",
        "  'hostname': 'KMT-2017-BLG-1146L',\n",
        "  'pl_name': 'KMT-2017-BLG-1146L b'},\n",
        " {'disc_telescope': '0.95 m Kepler Telescope',\n",
        "  'disc_year': 2012,\n",
        "  'hostname': 'Kepler-59',\n",
        "  'pl_name': 'Kepler-59 b'},\n",
        " {'disc_telescope': '0.95 m Kepler Telescope',\n",
        "  'disc_year': 2016,\n",
        "  'hostname': 'Kepler-1339',\n",
        "  'pl_name': 'Kepler-1339 b'},\n",
        " {'disc_telescope': '0.95 m Kepler Telescope',\n",
        "  'disc_year': 2014,\n",
        "  'hostname': 'Kepler-116',\n",
        "  'pl_name': 'Kepler-116 b'},\n",
        " {'disc_telescope': '0.95 m Kepler Telescope',\n",
        "  'disc_year': 2021,\n",
        "  'hostname': 'Kepler-1735',\n",
        "  'pl_name': 'Kepler-1735 b'},\n",
        " {'disc_telescope': '0.95 m Kepler Telescope',\n",
        "  'disc_year': 2021,\n",
        "  'hostname': 'Kepler-1919',\n",
        "  'pl_name': 'Kepler-1919 b'},\n",
        " {'disc_telescope': '0.95 m Kepler Telescope',\n",
        "  'disc_year': 2018,\n",
        "  'hostname': 'K2-199',\n",
        "  'pl_name': 'K2-199 b'},\n",
        " {'disc_telescope': '0.95 m Kepler Telescope',\n",
        "  'disc_year': 2012,\n",
        "  'hostname': 'Kepler-30',\n",
        "  'pl_name': 'Kepler-30 b'},\n",
        " {'disc_telescope': '0.95 m Kepler Telescope',\n",
        "  'disc_year': 2016,\n",
        "  'hostname': 'Kepler-1058',\n",
        "  'pl_name': 'Kepler-1058 b'},\n",
        " {'disc_telescope': '0.95 m Kepler Telescope',\n",
        "  'disc_year': 2014,\n",
        "  'hostname': 'Kepler-342',\n",
        "  'pl_name': 'Kepler-342 c'},\n",
        " {'disc_telescope': '0.95 m Kepler Telescope',\n",
        "  'disc_year': 2014,\n",
        "  'hostname': 'Kepler-178',\n",
        "  'pl_name': 'Kepler-178 d'},\n",
        " {'disc_telescope': '0.95 m Kepler Telescope',\n",
        "  'disc_year': 2014,\n",
        "  'hostname': 'Kepler-300',\n",
        "  'pl_name': 'Kepler-300 c'},\n",
        " {'disc_telescope': '0.95 m Kepler Telescope',\n",
        "  'disc_year': 2012,\n",
        "  'hostname': 'Kepler-49',\n",
        "  'pl_name': 'Kepler-49 c'},\n",
        " {'disc_telescope': '0.95 m Kepler Telescope',\n",
        "  'disc_year': 2014,\n",
        "  'hostname': 'Kepler-285',\n",
        "  'pl_name': 'Kepler-285 c'},\n",
        " {'disc_telescope': '0.95 m Kepler Telescope',\n",
        "  'disc_year': 2016,\n",
        "  'hostname': 'Kepler-1388',\n",
        "  'pl_name': 'Kepler-1388 e'},\n",
        " {'disc_telescope': '3.6 m ESO Telescope',\n",
        "  'disc_year': 2010,\n",
        "  'hostname': 'HD 113538',\n",
        "  'pl_name': 'HD 113538 c'},\n",
        " {'disc_telescope': '0.95 m Kepler Telescope',\n",
        "  'disc_year': 2016,\n",
        "  'hostname': 'Kepler-921',\n",
        "  'pl_name': 'Kepler-921 b'},\n",
        " {'disc_telescope': '0.95 m Kepler Telescope',\n",
        "  'disc_year': 2014,\n",
        "  'hostname': 'Kepler-84',\n",
        "  'pl_name': 'Kepler-84 d'},\n",
        " {'disc_telescope': '0.95 m Kepler Telescope',\n",
        "  'disc_year': 2014,\n",
        "  'hostname': 'Kepler-151',\n",
        "  'pl_name': 'Kepler-151 c'},\n",
        " {'disc_telescope': '0.95 m Kepler Telescope',\n",
        "  'disc_year': 2016,\n",
        "  'hostname': 'Kepler-484',\n",
        "  'pl_name': 'Kepler-484 b'},\n",
        " {'disc_telescope': '0.1 m TESS Telescope',\n",
        "  'disc_year': 2022,\n",
        "  'hostname': 'TOI-4329',\n",
        "  'pl_name': 'TOI-4329 b'},\n",
        " {'disc_telescope': '0.95 m Kepler Telescope',\n",
        "  'disc_year': 2016,\n",
        "  'hostname': 'Kepler-1224',\n",
        "  'pl_name': 'Kepler-1224 b'},\n",
        " {'disc_telescope': '0.95 m Kepler Telescope',\n",
        "  'disc_year': 2016,\n",
        "  'hostname': 'Kepler-1630',\n",
        "  'pl_name': 'Kepler-1630 b'},\n",
        " {'disc_telescope': '3.6 m ESO Telescope',\n",
        "  'disc_year': 2021,\n",
        "  'hostname': 'HD 93385',\n",
        "  'pl_name': 'HD 93385 b'},\n",
        " {'disc_telescope': '0.95 m Kepler Telescope',\n",
        "  'disc_year': 2015,\n",
        "  'hostname': 'KIC 5951458',\n",
        "  'pl_name': 'KIC 5951458 b'},\n",
        " {'disc_telescope': '0.95 m Kepler Telescope',\n",
        "  'disc_year': 2016,\n",
        "  'hostname': 'Kepler-688',\n",
        "  'pl_name': 'Kepler-688 b'},\n",
        " {'disc_telescope': '0.95 m Kepler Telescope',\n",
        "  'disc_year': 2016,\n",
        "  'hostname': 'Kepler-1379',\n",
        "  'pl_name': 'Kepler-1379 b'},\n",
        " {'disc_telescope': '0.95 m Kepler Telescope',\n",
        "  'disc_year': 2013,\n",
        "  'hostname': 'KOI-351',\n",
        "  'pl_name': 'KOI-351 d'},\n",
        " {'disc_telescope': '0.95 m Kepler Telescope',\n",
        "  'disc_year': 2016,\n",
        "  'hostname': 'Kepler-1543',\n",
        "  'pl_name': 'Kepler-1543 b'},\n",
        " {'disc_telescope': '0.95 m Kepler Telescope',\n",
        "  'disc_year': 2021,\n",
        "  'hostname': 'Kepler-1837',\n",
        "  'pl_name': 'Kepler-1837 b'},\n",
        " {'disc_telescope': '0.95 m Kepler Telescope',\n",
        "  'disc_year': 2014,\n",
        "  'hostname': 'Kepler-326',\n",
        "  'pl_name': 'Kepler-326 d'},\n",
        " {'disc_telescope': '0.95 m Kepler Telescope',\n",
        "  'disc_year': 2016,\n",
        "  'hostname': 'K2-26',\n",
        "  'pl_name': 'K2-26 b'},\n",
        " {'disc_telescope': '0.95 m Kepler Telescope',\n",
        "  'disc_year': 2016,\n",
        "  'hostname': 'Kepler-1128',\n",
        "  'pl_name': 'Kepler-1128 b'},\n",
        " {'disc_telescope': '0.95 m Kepler Telescope',\n",
        "  'disc_year': 2014,\n",
        "  'hostname': 'Kepler-334',\n",
        "  'pl_name': 'Kepler-334 b'},\n",
        " {'disc_telescope': '0.95 m Kepler Telescope',\n",
        "  'disc_year': 2016,\n",
        "  'hostname': 'Kepler-1448',\n",
        "  'pl_name': 'Kepler-1448 b'},\n",
        " {'disc_telescope': '0.95 m Kepler Telescope',\n",
        "  'disc_year': 2016,\n",
        "  'hostname': 'Kepler-1350',\n",
        "  'pl_name': 'Kepler-1350 b'},\n",
        " {'disc_telescope': '0.95 m Kepler Telescope',\n",
        "  'disc_year': 2021,\n",
        "  'hostname': 'Kepler-1770',\n",
        "  'pl_name': 'Kepler-1770 b'},\n",
        " {'disc_telescope': '0.95 m Kepler Telescope',\n",
        "  'disc_year': 2014,\n",
        "  'hostname': 'Kepler-401',\n",
        "  'pl_name': 'Kepler-401 c'},\n",
        " {'disc_telescope': '0.95 m Kepler Telescope',\n",
        "  'disc_year': 2021,\n",
        "  'hostname': 'Kepler-511',\n",
        "  'pl_name': 'Kepler-511 c'}\n",
        "]"
      ],
      "metadata": {
        "pycharm": {
          "name": "#%%\n"
        },
        "id": "LGwPIqf81dl4"
      }
    },
    {
      "cell_type": "markdown",
      "source": [
        "### Q.1  (2 points)\n",
        "Use a **list comprehension** to define a list of exoplanet `pl_names` discovered by the `0.1 m TESS Telescope`\n",
        "*Hint*: there are 4 such planets in the list above."
      ],
      "metadata": {
        "collapsed": false,
        "id": "ou24oUn-1dl5"
      }
    },
    {
      "cell_type": "code",
      "execution_count": 190,
      "outputs": [
        {
          "output_type": "execute_result",
          "data": {
            "text/plain": [
              "['TOI-2184 b', 'TOI-1759 b', 'TOI-125 b', 'TOI-4329 b']"
            ]
          },
          "metadata": {},
          "execution_count": 190
        }
      ],
      "source": [
        "\n",
        "pl_names_list= [i['pl_name'] for i in exoplanets if i['disc_telescope']== '0.1 m TESS Telescope']\n",
        "\n",
        "pl_names_list"
      ],
      "metadata": {
        "pycharm": {
          "name": "#%%\n"
        },
        "colab": {
          "base_uri": "https://localhost:8080/"
        },
        "id": "EAjRsbsA1dl5",
        "outputId": "a39f08eb-7998-4180-aae4-58e0a4e4b2cc"
      }
    },
    {
      "cell_type": "markdown",
      "source": [
        "### Q.2  (3 points)\n",
        "Develop a `dict` with a count of the number of exoplanets discovered in each year.\n",
        "There are *many* different ways to approach this - for full points solution should be concise and easy to understand.\n",
        "\n",
        "*Tip*: the built-in [defaultdict(int)](https://docs.python.org/3/library/collections.html#collections.defaultdict) could help here."
      ],
      "metadata": {
        "collapsed": false,
        "id": "v0_Ut31m1dl5"
      }
    },
    {
      "cell_type": "code",
      "execution_count": 191,
      "outputs": [
        {
          "output_type": "stream",
          "name": "stdout",
          "text": [
            "defaultdict(<class 'int'>, {2021: 13, 2014: 16, 2016: 45, 2019: 3, 2018: 5, 2012: 6, 2013: 2, 2008: 1, 2015: 2, 2022: 5, 2009: 1, 2010: 1})\n",
            "{2021: 13, 2014: 16, 2016: 45, 2019: 3, 2018: 5, 2012: 6, 2013: 2, 2008: 1, 2015: 2, 2022: 5, 2009: 1, 2010: 1}\n"
          ]
        }
      ],
      "source": [
        "from collections import defaultdict\n",
        "\n",
        "\n",
        "exoplanet_counts = defaultdict(int)\n",
        "\n",
        "#to count number of planets discovered in a given year\n",
        "for exoplanet in exoplanets:\n",
        "    year = exoplanet['disc_year']\n",
        "    exoplanet_counts[year] += 1    # if the year already exists, adds 1 to its counts, otherwise adds the year.\n",
        "\n",
        "exoplanet_counts_dict = dict(exoplanet_counts)\n",
        "\n",
        "print(exoplanet_counts)\n",
        "print(exoplanet_counts_dict)"
      ],
      "metadata": {
        "pycharm": {
          "name": "#%%\n"
        },
        "colab": {
          "base_uri": "https://localhost:8080/"
        },
        "id": "HYhPfBRw1dl5",
        "outputId": "0fb616d9-89b2-4f7f-e96b-219ab52f4f41"
      }
    },
    {
      "cell_type": "markdown",
      "source": [
        "### Q.3  (3 points)\n",
        "Plot your discoveries-by-year data as a [matplotlib.pyplot.bar](https://matplotlib.org/stable/api/_as_gen/matplotlib.pyplot.bar.html) chart.\n",
        "(no need to label axes or add a chart title)"
      ],
      "metadata": {
        "collapsed": false,
        "pycharm": {
          "name": "#%% md\n"
        },
        "id": "Mzv6yu1h1dl5"
      }
    },
    {
      "cell_type": "code",
      "execution_count": 192,
      "outputs": [
        {
          "output_type": "display_data",
          "data": {
            "text/plain": [
              "<Figure size 640x480 with 1 Axes>"
            ],
            "image/png": "[encoded data removed]"
          },
          "metadata": {}
        }
      ],
      "source": [
        "\n",
        "\"\"\"years = list(exoplanet_counts_dict.keys())\n",
        "counts = list(exoplanet_counts_dict.values())\"\"\"\n",
        "#for some reason, this was not working\n",
        "\n",
        "years =[i for i in exoplanet_counts]\n",
        "counts = [exoplanet_counts[year] for year in years]\n",
        "\n",
        "\n",
        "plt.bar(years, counts)\n",
        "\n",
        "plt.show()\n"
      ],
      "metadata": {
        "pycharm": {
          "name": "#%%\n"
        },
        "colab": {
          "base_uri": "https://localhost:8080/",
          "height": 430
        },
        "id": "LNvO8q-l1dl6",
        "outputId": "cfe6b48b-128c-4a47-f8b6-368967566d07"
      }
    },
    {
      "cell_type": "markdown",
      "source": [
        "## Data Classes\n",
        "Develop a small class to represent a single exoplanet object.\n",
        "You may use `@dataclass` or a regular class, as you wish.\n",
        "\n",
        "Your class should define at least 2 methods:\n",
        "```\n",
        "  def __str__(self) : return a nicely formatted string with the exoplanet's name and its discovery year\n",
        "\n",
        "  def has_same_host(self, other) : return True iff this exoplanet and the other share the same host\n",
        "```\n",
        "\n",
        "### Q.4   (5 points)\n",
        "Write your class below and include some code to test it and both its methods."
      ],
      "metadata": {
        "collapsed": false,
        "id": "5uD18rr91dl6"
      }
    },
    {
      "cell_type": "code",
      "execution_count": 193,
      "outputs": [
        {
          "output_type": "stream",
          "name": "stdout",
          "text": [
            "The planet Kepler-1770 b was discoverevd in the year 2021\n",
            "False\n"
          ]
        }
      ],
      "source": [
        "class exoplanet:\n",
        "\n",
        "  def __init__(self, name):\n",
        "    self.name = name\n",
        "\n",
        "    for i in exoplanets:\n",
        "      if self.name == i['pl_name']:\n",
        "        self.discovery_year= i['disc_year']\n",
        "        self.host = i['hostname']\n",
        "\n",
        "\n",
        "  def __str__(self):\n",
        "    return f'The planet {self.name} was discoverevd in the year {self.discovery_year}'\n",
        "\n",
        "  def has_same_host(self, other):\n",
        "    return self.host == exoplanet(other).host\n",
        "\n",
        "planet= exoplanet('Kepler-1770 b')\n",
        "\n",
        "\n",
        "print(planet.__str__())\n",
        "\n",
        "print(planet.has_same_host('K2-26 b'))"
      ],
      "metadata": {
        "pycharm": {
          "name": "#%%\n"
        },
        "colab": {
          "base_uri": "https://localhost:8080/"
        },
        "id": "anybHM2D1dl6",
        "outputId": "e1bdf535-9e47-43ba-8789-54127a1fbc6f"
      }
    },
    {
      "cell_type": "markdown",
      "source": [
        "## 1D Sliding Dot-product (correlation)\n",
        "The array below represents the size (in sq. m) of each house along a given street.\n",
        "In the questions below, we are trying to understand how each house compares to its next-door neighbours."
      ],
      "metadata": {
        "collapsed": false,
        "id": "sD51UaHj1dl6"
      }
    },
    {
      "cell_type": "code",
      "execution_count": 194,
      "outputs": [],
      "source": [
        "house_sizes = np.array( [251, 110, 92, 189, 215, 142, 126, 268, 243, 194] )\n",
        "wrapped_sizes = np.pad(house_sizes, 1, mode='wrap')"
      ],
      "metadata": {
        "pycharm": {
          "name": "#%%\n"
        },
        "id": "wbyOEx3s1dl6"
      }
    },
    {
      "cell_type": "markdown",
      "source": [
        "### Q.5  (3 points)\n",
        "Compute the average size of each house's 2 next-door neighbours using `np.correlate` [https://numpy.org/doc/stable/reference/generated/numpy.correlate.html](https://numpy.org/doc/stable/reference/generated/numpy.correlate.html)\n",
        "To avoid edge effects, we assume the last house is next-door to first house (a circular block)\n",
        "  `wrapped_sizes` shows how to use `numpy.pad` to do this [https://numpy.org/devdocs/reference/generated/numpy.pad.html](https://numpy.org/devdocs/reference/generated/numpy.pad.html)"
      ],
      "metadata": {
        "collapsed": false,
        "id": "Jfkieokh1dl6"
      }
    },
    {
      "cell_type": "code",
      "execution_count": 195,
      "outputs": [
        {
          "output_type": "stream",
          "name": "stdout",
          "text": [
            "average house sizes= [152.  171.5 149.5 153.5 165.5 170.5 205.  184.5 231.  247. ]\n",
            "For house 1, average neighbor size  is 152.0\n",
            "For house 2, average neighbor size  is 171.5\n",
            "For house 3, average neighbor size  is 149.5\n",
            "For house 4, average neighbor size  is 153.5\n",
            "For house 5, average neighbor size  is 165.5\n",
            "For house 6, average neighbor size  is 170.5\n",
            "For house 7, average neighbor size  is 205.0\n",
            "For house 8, average neighbor size  is 184.5\n",
            "For house 9, average neighbor size  is 231.0\n",
            "For house 10, average neighbor size  is 247.0\n"
          ]
        }
      ],
      "source": [
        "\n",
        "kernel = np.array([1, 1, 1])\n",
        "\n",
        "#compute the sums of neighbors for each house\n",
        "neighbor_sums = np.correlate(wrapped_sizes, kernel, mode='valid') - house_sizes\n",
        "\n",
        "# Calculate the average size of each house's 2 next-door neighbors\n",
        "average_neighbor_sizes = neighbor_sums / 2\n",
        "\n",
        "print(\"average house sizes=\" , average_neighbor_sizes)\n",
        "for i, size in enumerate(average_neighbor_sizes):\n",
        "    print(f\"For house {i+1}, average neighbor size  is {size:.1f}\")\n"
      ],
      "metadata": {
        "pycharm": {
          "name": "#%%\n"
        },
        "colab": {
          "base_uri": "https://localhost:8080/"
        },
        "id": "mWdECl1d1dl6",
        "outputId": "3624202b-4e69-4228-80b5-510bbb35a792"
      }
    },
    {
      "cell_type": "markdown",
      "source": [
        "### Q.6  (2 points)\n",
        "Compute the \"variance\" (difference) between each house's size and the average of it's neighbours.\n",
        "For full points, you must do this using a vector operation rather than a loop or comprehension.\n",
        "*Hint*: As a check on your work, the sum of all variances should be zero."
      ],
      "metadata": {
        "collapsed": false,
        "id": "kuDu4jnT1dl6"
      }
    },
    {
      "cell_type": "code",
      "execution_count": 196,
      "outputs": [
        {
          "output_type": "stream",
          "name": "stdout",
          "text": [
            "Variances between each house's size and average of neighbors:\n",
            "House 1: Variance = 99.0\n",
            "House 2: Variance = -61.5\n",
            "House 3: Variance = -57.5\n",
            "House 4: Variance = 35.5\n",
            "House 5: Variance = 49.5\n",
            "House 6: Variance = -28.5\n",
            "House 7: Variance = -79.0\n",
            "House 8: Variance = 83.5\n",
            "House 9: Variance = 12.0\n",
            "House 10: Variance = -53.0\n",
            "Sum of variances: 0.0\n"
          ]
        }
      ],
      "source": [
        "variances = house_sizes - average_neighbor_sizes\n",
        "\n",
        "\n",
        "print(\"Variances between each house's size and average of neighbors:\")\n",
        "for i, variance in enumerate(variances):\n",
        "    print(f\"House {i+1}: Variance = {variance:.1f}\")\n",
        "\n",
        "\n",
        "print(\"Sum of variances:\", np.sum(variances))\n",
        "\n",
        "#Thus, we are getting 0 as the sum of variances"
      ],
      "metadata": {
        "pycharm": {
          "name": "#%%\n"
        },
        "colab": {
          "base_uri": "https://localhost:8080/"
        },
        "id": "1otMg81_1dl6",
        "outputId": "23db6aac-b225-4d54-8899-e1664fdd6e8e"
      }
    },
    {
      "cell_type": "markdown",
      "source": [
        "## Graph Connectivity\n",
        "Assume you have been tasked with writing an algorithm to determine if an undirected graph is connected:\n",
        "```\n",
        "   def is_connected(graph)\n",
        "```\n",
        "with this in mind, answer the following questions (*you need not actually write this function, its just for context*)..."
      ],
      "metadata": {
        "collapsed": false,
        "id": "uFpwvjIf1dl6"
      }
    },
    {
      "cell_type": "markdown",
      "source": [
        "### Q.7  (2 points)\n",
        " i) What is the smallest number of edges a connected undirected graph with $N$ nodes could have?\n",
        " ii) What is the largest number of edges a simple undirected graph with $N$ nodes could have? (no edges from a node to itself)"
      ],
      "metadata": {
        "collapsed": false,
        "id": "NeSwX8Q01dl6"
      }
    },
    {
      "cell_type": "markdown",
      "source": [
        "\n",
        "\n",
        "```\n",
        "# This is formatted as code\n",
        "```\n",
        "\n",
        "Q.7 answer: A connected graph is the one in with every node is connected to atleast one other node such that there is a way to go from a node to any other node.\n",
        "The smallest number of edges required for that is N-1.\n",
        "\n",
        "2. The largest number of edges are present when we have a complete graph. For that, we need n(n-1)/2 edges."
      ],
      "metadata": {
        "collapsed": false,
        "pycharm": {
          "name": "#%% md\n"
        },
        "id": "w3vj7Okr1dl6"
      }
    },
    {
      "cell_type": "markdown",
      "source": [
        "### Q.8  (2 points)\n",
        "\n",
        "Give an undirected graph with $N$ nodes and $M$ edges...\n",
        "(i) what is the best-case time complexity for the `is_connected` algorithm?\n",
        "(ii) what is the worst-case time complexity of the `is_connected` algorithm?\n",
        "\n",
        "Choices:\n",
        " * $O(N)$\n",
        " * $O(M)$\n",
        " * $O(N + M)$\n",
        " * $O(N * M)$\n",
        " * $O(N^2)$\n",
        " * $O(2^N)$"
      ],
      "metadata": {
        "collapsed": false,
        "pycharm": {
          "name": "#%% md\n"
        },
        "id": "ApFqAB4M1dl6"
      }
    },
    {
      "cell_type": "markdown",
      "source": [
        "Q.8 answer: Best-case= O(M), when the algorithm just needs check that there is not a way through all the nodes and there are just few edges.\n",
        "\n",
        "Worst-case- O(N+M), when the algorithm goes to avery node and tries to find if there is a way to every other node going through every edge, when the graph is is complete or almost there."
      ],
      "metadata": {
        "collapsed": false,
        "pycharm": {
          "name": "#%% md\n"
        },
        "id": "CqBHuENW1dl6"
      }
    },
    {
      "cell_type": "markdown",
      "source": [
        "## Iterable types\n",
        "\n",
        "The code fragment below defines a list, a tuple and a generator, all containing the same sequence of values..."
      ],
      "metadata": {
        "collapsed": false,
        "pycharm": {
          "name": "#%% md\n"
        },
        "id": "wicekqzz1dl6"
      }
    },
    {
      "cell_type": "code",
      "execution_count": 197,
      "outputs": [
        {
          "output_type": "execute_result",
          "data": {
            "text/plain": [
              "(list, tuple, generator)"
            ]
          },
          "metadata": {},
          "execution_count": 197
        }
      ],
      "source": [
        "l = [(i-1, i, i+1) for i in range(10)]\n",
        "t = tuple((i-1, i, i+1) for i in range(10))\n",
        "g = ((i-1, i, i+1) for i in range(10))\n",
        "\n",
        "type(l), type(t), type(g)\n"
      ],
      "metadata": {
        "pycharm": {
          "name": "#%%\n"
        },
        "colab": {
          "base_uri": "https://localhost:8080/"
        },
        "id": "XEi-7WCD1dl7",
        "outputId": "3cde5128-c69b-496b-b8a0-204d2fb637b6"
      }
    },
    {
      "cell_type": "markdown",
      "source": [
        "### Q.9   (3 points)\n",
        "Write a small piece of code that clearly demonstrates the principle difference(s) between these 3 iterable objects."
      ],
      "metadata": {
        "collapsed": false,
        "pycharm": {
          "name": "#%% md\n"
        },
        "id": "JY6zHu3W1dl7"
      }
    },
    {
      "cell_type": "code",
      "execution_count": 198,
      "outputs": [
        {
          "output_type": "stream",
          "name": "stdout",
          "text": [
            "list= [(-1, 0, 1), (0, 1, 2), (1, 2, 3), (2, 3, 4), (3, 4, 5), (4, 5, 6), (5, 6, 7), (6, 7, 8), (7, 8, 9), (8, 9, 10)]\n",
            "items\n",
            "(-1, 0, 1)\n",
            "(0, 1, 2)\n",
            "(1, 2, 3)\n",
            "(2, 3, 4)\n",
            "(3, 4, 5)\n",
            "(4, 5, 6)\n",
            "(5, 6, 7)\n",
            "(6, 7, 8)\n",
            "(7, 8, 9)\n",
            "(8, 9, 10)\n",
            "\n",
            "Tuple: ((-1, 0, 1), (0, 1, 2), (1, 2, 3), (2, 3, 4), (3, 4, 5), (4, 5, 6), (5, 6, 7), (6, 7, 8), (7, 8, 9), (8, 9, 10))\n",
            "items\n",
            "(-1, 0, 1)\n",
            "(0, 1, 2)\n",
            "(1, 2, 3)\n",
            "(2, 3, 4)\n",
            "(3, 4, 5)\n",
            "(4, 5, 6)\n",
            "(5, 6, 7)\n",
            "(6, 7, 8)\n",
            "(7, 8, 9)\n",
            "(8, 9, 10)\n",
            "\n",
            "Generator: <generator object <genexpr> at 0x788633a8a810>\n",
            "\n",
            "items\n",
            "(-1, 0, 1)\n",
            "(0, 1, 2)\n",
            "(1, 2, 3)\n",
            "(2, 3, 4)\n",
            "(3, 4, 5)\n",
            "(4, 5, 6)\n",
            "(5, 6, 7)\n",
            "(6, 7, 8)\n",
            "(7, 8, 9)\n",
            "(8, 9, 10)\n",
            "\n",
            "differrence between tuple and list \n",
            "\n",
            "[(-1, 0, 1), (0, 1, 2), (1, 2, 3), (2, 3, 4), (3, 4, 5), (4, 5, 6), (5, 6, 7), (6, 7, 8), (7, 8, 9), (8, 9, 10), 3]\n"
          ]
        },
        {
          "output_type": "error",
          "ename": "TypeError",
          "evalue": "ignored",
          "traceback": [
            "\u001b[0;31m---------------------------------------------------------------------------\u001b[0m",
            "\u001b[0;31mTypeError\u001b[0m                                 Traceback (most recent call last)",
            "\u001b[0;32m<ipython-input-198-3189071473b7>\u001b[0m in \u001b[0;36m<cell line: 20>\u001b[0;34m()\u001b[0m\n\u001b[1;32m     18\u001b[0m \u001b[0mprint\u001b[0m\u001b[0;34m(\u001b[0m\u001b[0ml\u001b[0m\u001b[0;34m)\u001b[0m\u001b[0;34m\u001b[0m\u001b[0;34m\u001b[0m\u001b[0m\n\u001b[1;32m     19\u001b[0m \u001b[0;34m\u001b[0m\u001b[0m\n\u001b[0;32m---> 20\u001b[0;31m \u001b[0mt\u001b[0m\u001b[0;34m=\u001b[0m \u001b[0mt\u001b[0m\u001b[0;34m+\u001b[0m \u001b[0;34m(\u001b[0m\u001b[0;36m3\u001b[0m\u001b[0;34m)\u001b[0m\u001b[0;34m\u001b[0m\u001b[0;34m\u001b[0m\u001b[0m\n\u001b[0m\u001b[1;32m     21\u001b[0m \u001b[0mprint\u001b[0m\u001b[0;34m(\u001b[0m\u001b[0mt\u001b[0m\u001b[0;34m)\u001b[0m\u001b[0;34m\u001b[0m\u001b[0;34m\u001b[0m\u001b[0m\n",
            "\u001b[0;31mTypeError\u001b[0m: can only concatenate tuple (not \"int\") to tuple"
          ]
        }
      ],
      "source": [
        "print(\"list=\", l)\n",
        "print(\"items\")\n",
        "for item in l:\n",
        "    print(item)\n",
        "\n",
        "print(\"\\nTuple:\", t)\n",
        "print(\"items\")\n",
        "for item in t:\n",
        "    print(item)\n",
        "\n",
        "print(\"\\nGenerator:\", g)\n",
        "print(\"\\nitems\")\n",
        "for item in g:\n",
        "    print(item)\n",
        "\n",
        "print(\"\\ndifferrence between tuple and list \\n\")\n",
        "l= l+ [3]\n",
        "print(l)\n",
        "\n",
        "t= t+ (3)\n",
        "print(t)"
      ],
      "metadata": {
        "pycharm": {
          "name": "#%%\n"
        },
        "id": "LTrN--hL1dl7",
        "colab": {
          "base_uri": "https://localhost:8080/",
          "height": 1000
        },
        "outputId": "7c134252-5e92-4804-a1a5-858c85ac78d0"
      }
    }
  ],
  "metadata": {
    "kernelspec": {
      "display_name": "Python 3",
      "language": "python",
      "name": "python3"
    },
    "language_info": {
      "codemirror_mode": {
        "name": "ipython",
        "version": 2
      },
      "file_extension": ".py",
      "mimetype": "text/x-python",
      "name": "python",
      "nbconvert_exporter": "python",
      "pygments_lexer": "ipython2",
      "version": "2.7.6"
    },
    "colab": {
      "provenance": [],
      "include_colab_link": true
    }
  },
  "nbformat": 4,
  "nbformat_minor": 0
}